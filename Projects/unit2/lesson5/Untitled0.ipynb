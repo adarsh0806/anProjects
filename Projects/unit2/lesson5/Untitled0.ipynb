{
 "metadata": {
  "name": "",
  "signature": "sha256:35d642eb4375d645b4c1d91e907cd17677f30c126aabc5115a90c8f21a6a059a"
 },
 "nbformat": 3,
 "nbformat_minor": 0,
 "worksheets": [
  {
   "cells": [
    {
     "cell_type": "code",
     "collapsed": false,
     "input": [
      "import pandas as pd\n",
      "\n",
      "loansdata = pd.read_csv('loanstats2015.csv', nrows = 5, skiprows = 1)\n",
      "\n",
      "df = pd.DataFrame(loansdata)\n",
      "print df"
     ],
     "language": "python",
     "metadata": {},
     "outputs": [
      {
       "output_type": "stream",
       "stream": "stdout",
       "text": [
        "         id  member_id  loan_amnt  funded_amnt  funded_amnt_inv        term  \\\n",
        "0  44057008   47073801      18000        18000            18000   60 months   \n",
        "1  44429213   47476932      10000        10000            10000   60 months   \n",
        "2  44299188   47346901      24000        24000            24000   60 months   \n",
        "3  44017917   47034722      24000        24000            24000   36 months   \n",
        "4  44259158   47306871      35000        35000            35000   36 months   \n",
        "\n",
        "  int_rate  installment grade sub_grade     ...      total_rec_late_fee  \\\n",
        "0    9.99%       382.36     B        B3     ...                       0   \n",
        "1   15.61%       241.12     D        D1     ...                       0   \n",
        "2    8.18%       488.71     B        B1     ...                       0   \n",
        "3    5.93%       729.37     A        A1     ...                       0   \n",
        "4   12.69%      1174.07     C        C2     ...                       0   \n",
        "\n",
        "  recoveries collection_recovery_fee  last_pymnt_d last_pymnt_amnt  \\\n",
        "0          0                       0      Apr-2015          382.36   \n",
        "1          0                       0      Apr-2015          241.12   \n",
        "2          0                       0      Apr-2015          488.71   \n",
        "3          0                       0      Apr-2015          685.88   \n",
        "4          0                       0      Apr-2015         1174.07   \n",
        "\n",
        "  next_pymnt_d last_credit_pull_d collections_12_mths_ex_med  \\\n",
        "0     May-2015           Apr-2015                          0   \n",
        "1     May-2015           Apr-2015                          0   \n",
        "2     May-2015           Apr-2015                          0   \n",
        "3     May-2015           Apr-2015                          0   \n",
        "4     May-2015           Apr-2015                          0   \n",
        "\n",
        "  mths_since_last_major_derog  policy_code  \n",
        "0                         NaN            1  \n",
        "1                         NaN            1  \n",
        "2                         NaN            1  \n",
        "3                         NaN            1  \n",
        "4                         NaN            1  \n",
        "\n",
        "[5 rows x 52 columns]\n"
       ]
      }
     ],
     "prompt_number": 5
    },
    {
     "cell_type": "code",
     "collapsed": false,
     "input": [],
     "language": "python",
     "metadata": {},
     "outputs": []
    }
   ],
   "metadata": {}
  }
 ]
}